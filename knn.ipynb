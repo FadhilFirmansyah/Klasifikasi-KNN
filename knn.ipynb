{
  "nbformat": 4,
  "nbformat_minor": 0,
  "metadata": {
    "colab": {
      "provenance": []
    },
    "kernelspec": {
      "name": "python3",
      "display_name": "Python 3"
    },
    "language_info": {
      "name": "python"
    }
  },
  "cells": [
    {
      "cell_type": "markdown",
      "source": [
        "#Klasifikasi KNN"
      ],
      "metadata": {
        "id": "rMRiHeqQcqle"
      }
    },
    {
      "cell_type": "code",
      "execution_count": 1,
      "metadata": {
        "colab": {
          "base_uri": "https://localhost:8080/"
        },
        "id": "w2ttTk0IcnTF",
        "outputId": "3816838e-cd99-4ff5-b0aa-22bfc3124ffb"
      },
      "outputs": [
        {
          "output_type": "stream",
          "name": "stdout",
          "text": [
            "Accuracy: 0.9333333333333333\n",
            "Confusion Matrix:\n",
            " [[ 4  2]\n",
            " [ 0 24]]\n",
            "Classification Report:\n",
            "               precision    recall  f1-score   support\n",
            "\n",
            "           0       1.00      0.67      0.80         6\n",
            "           1       0.92      1.00      0.96        24\n",
            "\n",
            "    accuracy                           0.93        30\n",
            "   macro avg       0.96      0.83      0.88        30\n",
            "weighted avg       0.94      0.93      0.93        30\n",
            "\n"
          ]
        }
      ],
      "source": [
        "import pandas as pd\n",
        "from sklearn.model_selection import train_test_split\n",
        "from sklearn.preprocessing import LabelEncoder, StandardScaler\n",
        "from sklearn.neighbors import KNeighborsClassifier\n",
        "from sklearn.metrics import accuracy_score, confusion_matrix, classification_report\n",
        "\n",
        "# Load dataset\n",
        "data = pd.read_csv('/content/Dataset-UKT_MAHASISWA.csv')\n",
        "\n",
        "# Preprocess dataset\n",
        "# Encode 'Pekerjaan Orang Tua' to numeric values\n",
        "encoder = LabelEncoder()\n",
        "data['Pekerjaan Orang Tua'] = encoder.fit_transform(data['Pekerjaan Orang Tua'])\n",
        "\n",
        "# Separate features and target\n",
        "X = data.drop(columns=['Kelayakan Keringanan UKT'])\n",
        "y = encoder.fit_transform(data['Kelayakan Keringanan UKT'])\n",
        "\n",
        "# Standardize features to improve KNN performance\n",
        "scaler = StandardScaler()\n",
        "X = scaler.fit_transform(X)\n",
        "\n",
        "# Split dataset into training and testing sets\n",
        "X_train, X_test, y_train, y_test = train_test_split(X, y, test_size=0.3, random_state=42)\n",
        "\n",
        "# Initialize and train the K-Nearest Neighbors classifier\n",
        "knn_model = KNeighborsClassifier(n_neighbors=5)  # You can experiment with different values of 'n_neighbors'\n",
        "knn_model.fit(X_train, y_train)\n",
        "\n",
        "# Make predictions\n",
        "y_pred = knn_model.predict(X_test)\n",
        "\n",
        "# Evaluate model performance\n",
        "accuracy = accuracy_score(y_test, y_pred)\n",
        "conf_matrix = confusion_matrix(y_test, y_pred)\n",
        "class_report = classification_report(y_test, y_pred)\n",
        "\n",
        "# Display results\n",
        "print(\"Accuracy:\", accuracy)\n",
        "print(\"Confusion Matrix:\\n\", conf_matrix)\n",
        "print(\"Classification Report:\\n\", class_report)\n"
      ]
    }
  ]
}